{
 "cells": [
  {
   "cell_type": "code",
   "execution_count": 9,
   "id": "825d7b07",
   "metadata": {
    "ExecuteTime": {
     "end_time": "2021-07-03T14:32:57.244857Z",
     "start_time": "2021-07-03T14:32:57.235804Z"
    }
   },
   "outputs": [],
   "source": [
    "from scipy.spatial import distance\n",
    "\n",
    "def distance_panoramic(coord1, coord2, max_x):\n",
    "    \n",
    "    coord1 = (coord1[0] % max_x, coord1[1])\n",
    "    coord2 = (coord2[0] % max_x, coord2[1])\n",
    "    \n",
    "    coord1_around = (coord1[0] - max_x, coord1[1])\n",
    "    coord2_around = (coord2[0] - max_x, coord2[1])\n",
    "    \n",
    "    dist = min(distance.euclidean(coord1, coord2), \n",
    "               distance.euclidean(coord1_around, coord2),\n",
    "               distance.euclidean(coord1, coord2_around))\n",
    "    \n",
    "    return dist\n",
    "\n",
    "assert distance_panoramic((0,0), (20, 0), 20) == 0\n",
    "assert distance_panoramic((-20,0), (0, 0), 20) == 0\n",
    "assert distance_panoramic((-20,0), (20, 0), 40) == 0\n",
    "assert distance_panoramic((0,0), (20, 0), 40) == 20\n",
    "assert distance_panoramic((100,0), (20, 0), 40) == 0\n",
    "assert distance_panoramic((105,0), (20, 0), 40) == 5"
   ]
  },
  {
   "cell_type": "code",
   "execution_count": null,
   "id": "84765f40",
   "metadata": {},
   "outputs": [],
   "source": []
  }
 ],
 "metadata": {
  "kernelspec": {
   "display_name": "Python 3",
   "language": "python",
   "name": "python3"
  },
  "language_info": {
   "codemirror_mode": {
    "name": "ipython",
    "version": 3
   },
   "file_extension": ".py",
   "mimetype": "text/x-python",
   "name": "python",
   "nbconvert_exporter": "python",
   "pygments_lexer": "ipython3",
   "version": "3.9.4"
  }
 },
 "nbformat": 4,
 "nbformat_minor": 5
}
