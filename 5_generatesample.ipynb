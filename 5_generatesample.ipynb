{
 "cells": [
  {
   "cell_type": "code",
   "execution_count": 2,
   "id": "5e9e67e0",
   "metadata": {
    "ExecuteTime": {
     "end_time": "2021-06-30T15:14:18.302825Z",
     "start_time": "2021-06-30T15:14:15.957202Z"
    }
   },
   "outputs": [],
   "source": [
    "## Imports\n",
    "\n",
    "# General\n",
    "import os\n",
    "import os.path as path\n",
    "import json\n",
    "from glob import glob\n",
    "import cv2 as cv2\n",
    "import numpy as np\n",
    "import pandas as pd\n",
    "from PIL import Image, ImageDraw\n",
    "import matplotlib.pyplot as plt\n",
    "from tqdm import tqdm\n",
    "\n",
    "%matplotlib inline"
   ]
  },
  {
   "cell_type": "code",
   "execution_count": 3,
   "id": "fb9a4a84",
   "metadata": {
    "ExecuteTime": {
     "end_time": "2021-06-30T15:14:18.308477Z",
     "start_time": "2021-06-30T15:14:18.305380Z"
    }
   },
   "outputs": [],
   "source": [
    "# Set data to be processed\n",
    "DROOT = './0_data'\n",
    "\n",
    "# Sources\n",
    "RND_SRC = path.join(DROOT, \"2_procfootage/360-cropped.jpg\")\n",
    "\n",
    "# Destination video\n",
    "VID_DST_FRMS = path.join(DROOT, \"4_simsiam/video_sample/\")\n",
    "VID_DST = path.join(DROOT, \"4_simsiam/video_sample.mp4\")"
   ]
  },
  {
   "cell_type": "code",
   "execution_count": 4,
   "id": "b8eee67d",
   "metadata": {
    "ExecuteTime": {
     "end_time": "2021-06-30T15:14:18.572394Z",
     "start_time": "2021-06-30T15:14:18.311708Z"
    }
   },
   "outputs": [
    {
     "name": "stdout",
     "output_type": "stream",
     "text": [
      "(1810, 6516, 3)\n"
     ]
    }
   ],
   "source": [
    "base = plt.imread(RND_SRC)\n",
    "height, width, layers = base.shape\n",
    "print(base.shape)\n",
    "r = 150"
   ]
  },
  {
   "cell_type": "code",
   "execution_count": 5,
   "id": "fbccd45b",
   "metadata": {
    "ExecuteTime": {
     "end_time": "2021-06-30T15:14:18.641345Z",
     "start_time": "2021-06-30T15:14:18.576362Z"
    }
   },
   "outputs": [
    {
     "data": {
      "text/html": [
       "<div>\n",
       "<style scoped>\n",
       "    .dataframe tbody tr th:only-of-type {\n",
       "        vertical-align: middle;\n",
       "    }\n",
       "\n",
       "    .dataframe tbody tr th {\n",
       "        vertical-align: top;\n",
       "    }\n",
       "\n",
       "    .dataframe thead th {\n",
       "        text-align: right;\n",
       "    }\n",
       "</style>\n",
       "<table border=\"1\" class=\"dataframe\">\n",
       "  <thead>\n",
       "    <tr style=\"text-align: right;\">\n",
       "      <th></th>\n",
       "      <th>0</th>\n",
       "      <th>1</th>\n",
       "      <th>2</th>\n",
       "      <th>3</th>\n",
       "      <th>4</th>\n",
       "      <th>5</th>\n",
       "      <th>6</th>\n",
       "      <th>7</th>\n",
       "      <th>8</th>\n",
       "      <th>9</th>\n",
       "      <th>10</th>\n",
       "      <th>11</th>\n",
       "      <th>12</th>\n",
       "      <th>13</th>\n",
       "      <th>14</th>\n",
       "      <th>15</th>\n",
       "    </tr>\n",
       "  </thead>\n",
       "  <tbody>\n",
       "    <tr>\n",
       "      <th>0</th>\n",
       "      <td>(2613.2344269833707, 800.7192381810094)</td>\n",
       "      <td>(2529.4122891494003, 819.5036700952793)</td>\n",
       "      <td>(2734.835115781451, 809.6951925678163)</td>\n",
       "      <td>(3624.1725792296133, 1000.710800374332)</td>\n",
       "      <td>(3416.378911676135, 1007.6283112483752)</td>\n",
       "      <td>(3213.230793522332, 979.5710351584648)</td>\n",
       "      <td>(3977.204449465545, 1000.4977199107858)</td>\n",
       "      <td>(4105.014764181258, 700.2142112410282)</td>\n",
       "      <td>(4168.307449235088, 669.9644783074699)</td>\n",
       "      <td>(4142.118030848721, 727.3886054422208)</td>\n",
       "      <td>(4272.388644854969, 663.2978064881493)</td>\n",
       "      <td>(2627.5107258539465, 1291.843719115189)</td>\n",
       "      <td>(2455.1341928900615, 1280.37677693771)</td>\n",
       "      <td>(2396.026807437184, 1301.1958361825014)</td>\n",
       "      <td>(2782.2881148890665, 1302.569297203743)</td>\n",
       "      <td>(2630.1077187085693, 1321.6475060200064)</td>\n",
       "    </tr>\n",
       "  </tbody>\n",
       "</table>\n",
       "</div>"
      ],
      "text/plain": [
       "                                        0   \\\n",
       "0  (2613.2344269833707, 800.7192381810094)   \n",
       "\n",
       "                                        1   \\\n",
       "0  (2529.4122891494003, 819.5036700952793)   \n",
       "\n",
       "                                       2   \\\n",
       "0  (2734.835115781451, 809.6951925678163)   \n",
       "\n",
       "                                        3   \\\n",
       "0  (3624.1725792296133, 1000.710800374332)   \n",
       "\n",
       "                                        4   \\\n",
       "0  (3416.378911676135, 1007.6283112483752)   \n",
       "\n",
       "                                       5   \\\n",
       "0  (3213.230793522332, 979.5710351584648)   \n",
       "\n",
       "                                        6   \\\n",
       "0  (3977.204449465545, 1000.4977199107858)   \n",
       "\n",
       "                                       7   \\\n",
       "0  (4105.014764181258, 700.2142112410282)   \n",
       "\n",
       "                                       8   \\\n",
       "0  (4168.307449235088, 669.9644783074699)   \n",
       "\n",
       "                                       9   \\\n",
       "0  (4142.118030848721, 727.3886054422208)   \n",
       "\n",
       "                                       10  \\\n",
       "0  (4272.388644854969, 663.2978064881493)   \n",
       "\n",
       "                                        11  \\\n",
       "0  (2627.5107258539465, 1291.843719115189)   \n",
       "\n",
       "                                       12  \\\n",
       "0  (2455.1341928900615, 1280.37677693771)   \n",
       "\n",
       "                                        13  \\\n",
       "0  (2396.026807437184, 1301.1958361825014)   \n",
       "\n",
       "                                        14  \\\n",
       "0  (2782.2881148890665, 1302.569297203743)   \n",
       "\n",
       "                                         15  \n",
       "0  (2630.1077187085693, 1321.6475060200064)  "
      ]
     },
     "execution_count": 5,
     "metadata": {},
     "output_type": "execute_result"
    }
   ],
   "source": [
    "length = 100\n",
    "\n",
    "def get_random_movement(size, main_dev, n_part, part_dev, start, bias):\n",
    "    main = np.random.normal(0, main_dev, length)\n",
    "    main_summed = np.array([sum(main[0:i]) + start + bias for i in range(size)])\n",
    "    parts = [np.random.normal(main_summed, part_dev)\n",
    "             for x in range(n_part)]\n",
    "    \n",
    "    return parts\n",
    "    \n",
    "combine_lists_of_lists = lambda x, y: [list(zip(x[i], y[i])) for i in range(len(x))]\n",
    "\n",
    "part_1_x = get_random_movement(length, 400, 3, 100, -600, width/2)\n",
    "part_1_y = get_random_movement(length, 20, 3, 20, -100, height/2)\n",
    "part_1 = combine_lists_of_lists(part_1_x, part_1_y)\n",
    "\n",
    "part_2_x = get_random_movement(length, 100, 4, 200, 400, width/2)\n",
    "part_2_y = get_random_movement(length, 20, 4, 20, 100, height/2)\n",
    "part_2 = combine_lists_of_lists(part_2_x, part_2_y)\n",
    "\n",
    "part_3_x = get_random_movement(length, 400, 4, 100, 1000, width/2)\n",
    "part_3_y = get_random_movement(length, 20, 4, 20, -200, height/2)\n",
    "part_3 = combine_lists_of_lists(part_3_x, part_3_y)\n",
    "\n",
    "part_4_x = get_random_movement(length, 100, 5, 150, -700, width/2)\n",
    "part_4_y = get_random_movement(length, 20, 5, 20, 400, height/2)\n",
    "part_4 = combine_lists_of_lists(part_4_x, part_4_y)\n",
    "\n",
    "parts = pd.DataFrame(part_1 + part_2 + part_3 + part_4).T\n",
    "\n",
    "parts.head(1)"
   ]
  },
  {
   "cell_type": "code",
   "execution_count": null,
   "id": "174ba146",
   "metadata": {
    "ExecuteTime": {
     "start_time": "2021-06-30T15:14:17.106Z"
    },
    "scrolled": true
   },
   "outputs": [
    {
     "name": "stderr",
     "output_type": "stream",
     "text": [
      "94it [01:02,  1.52it/s]"
     ]
    }
   ],
   "source": [
    "fourcc = cv2.VideoWriter_fourcc(*'FMP4')\n",
    "fourcc = cv2.VideoWriter_fourcc(*'XVID')\n",
    "video = cv2.VideoWriter(VID_DST, fourcc, 10, (1440, 720))\n",
    "\n",
    "def get_cmap(n, name='hsv'):\n",
    "    return plt.cm.get_cmap(name, n)\n",
    "cmap = get_cmap(len([x[0] for x in parts.iloc[0]]))\n",
    "\n",
    "for frame in tqdm(parts.itertuples(index=False)):\n",
    "    \n",
    "    fig, ax = plt.subplots(figsize=(20,10))\n",
    "    ax.imshow(base)\n",
    "    x = [x[0] for x in frame]\n",
    "    y = [x[1] for x in frame]\n",
    "    ax.scatter(x, y, c=range(len(x)), cmap=cmap, linewidths=15, alpha=0.7)\n",
    "    ax.axis('off')\n",
    "    fig.tight_layout(pad=0, h_pad=0)\n",
    "    ax.margins(0, y=0)\n",
    "\n",
    "    fig.canvas.draw()\n",
    "    image_from_plot = np.frombuffer(fig.canvas.tostring_rgb(), dtype=np.uint8)\n",
    "    image_from_plot = image_from_plot.reshape(fig.canvas.get_width_height()[::-1] + (3,))\n",
    "    \n",
    "    video.write(cv2.cvtColor(image_from_plot, cv2.COLOR_BGR2RGB))\n",
    "    plt.close()\n",
    "    \n",
    "video.release()"
   ]
  },
  {
   "cell_type": "code",
   "execution_count": null,
   "id": "c5b0c9db",
   "metadata": {},
   "outputs": [],
   "source": []
  }
 ],
 "metadata": {
  "kernelspec": {
   "display_name": "Python 3",
   "language": "python",
   "name": "python3"
  },
  "language_info": {
   "codemirror_mode": {
    "name": "ipython",
    "version": 3
   },
   "file_extension": ".py",
   "mimetype": "text/x-python",
   "name": "python",
   "nbconvert_exporter": "python",
   "pygments_lexer": "ipython3",
   "version": "3.9.4"
  }
 },
 "nbformat": 4,
 "nbformat_minor": 5
}
