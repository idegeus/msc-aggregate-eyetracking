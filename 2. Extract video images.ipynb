{
 "cells": [
  {
   "cell_type": "code",
   "execution_count": 2,
   "metadata": {
    "ExecuteTime": {
     "end_time": "2021-04-20T13:51:02.843407Z",
     "start_time": "2021-04-20T13:50:59.671140Z"
    }
   },
   "outputs": [],
   "source": [
    "import cv2 as cv\n",
    "import matplotlib.pyplot as plt\n",
    "%matplotlib inline"
   ]
  },
  {
   "cell_type": "code",
   "execution_count": 7,
   "metadata": {
    "ExecuteTime": {
     "end_time": "2021-04-20T14:08:51.039885Z",
     "start_time": "2021-04-20T14:08:51.027655Z"
    }
   },
   "outputs": [],
   "source": [
    "import os\n",
    "os.mkdir('./extracts/')"
   ]
  },
  {
   "cell_type": "code",
   "execution_count": 8,
   "metadata": {
    "ExecuteTime": {
     "end_time": "2021-04-20T14:08:57.617348Z",
     "start_time": "2021-04-20T14:08:53.213314Z"
    },
    "scrolled": false
   },
   "outputs": [
    {
     "name": "stdout",
     "output_type": "stream",
     "text": [
      "Read a new frame:  True\n"
     ]
    }
   ],
   "source": [
    "vidcap = cv.VideoCapture('./raw-footage/test 3-4-21/360_0006_stitched.MP4')\n",
    "success, image = vidcap.read()\n",
    "count = 0\n",
    "while success:\n",
    "    \n",
    "    for x in range(0, image.shape[0]-256, 64):\n",
    "        for y in range(0, image.shape[1]-256, 64):\n",
    "            cv.imwrite(f\"./extracts/frame{x}-{y}.jpg\", image[x:x+256, y:y+256])\n",
    "    success, image = vidcap.read()\n",
    "    print('Read a new frame: ', success)\n",
    "    count += 1\n",
    "    break;\n"
   ]
  },
  {
   "cell_type": "code",
   "execution_count": null,
   "metadata": {},
   "outputs": [],
   "source": []
  }
 ],
 "metadata": {
  "kernelspec": {
   "display_name": "Python 3",
   "language": "python",
   "name": "python3"
  },
  "language_info": {
   "codemirror_mode": {
    "name": "ipython",
    "version": 3
   },
   "file_extension": ".py",
   "mimetype": "text/x-python",
   "name": "python",
   "nbconvert_exporter": "python",
   "pygments_lexer": "ipython3",
   "version": "3.9.2"
  }
 },
 "nbformat": 4,
 "nbformat_minor": 2
}
