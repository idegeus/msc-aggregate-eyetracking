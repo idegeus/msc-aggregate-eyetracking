{
 "cells": [
  {
   "cell_type": "code",
   "execution_count": 139,
   "id": "5e9e67e0",
   "metadata": {
    "ExecuteTime": {
     "end_time": "2021-06-30T12:47:59.919586Z",
     "start_time": "2021-06-30T12:47:59.899090Z"
    }
   },
   "outputs": [],
   "source": [
    "## Imports\n",
    "\n",
    "# General\n",
    "import os\n",
    "import os.path as path\n",
    "import json\n",
    "from glob import glob\n",
    "import cv2 as cv2\n",
    "import numpy as np\n",
    "import pandas as pd\n",
    "from PIL import Image, ImageDraw\n",
    "import matplotlib.pyplot as plt\n",
    "from tqdm import tqdm\n",
    "\n",
    "%matplotlib inline"
   ]
  },
  {
   "cell_type": "code",
   "execution_count": 138,
   "id": "a15a79f6",
   "metadata": {
    "ExecuteTime": {
     "end_time": "2021-06-30T12:47:59.894666Z",
     "start_time": "2021-06-30T12:47:30.391184Z"
    }
   },
   "outputs": [
    {
     "name": "stdout",
     "output_type": "stream",
     "text": [
      "Collecting package metadata (current_repodata.json): done\n",
      "Solving environment: done\n",
      "\n",
      "\n",
      "==> WARNING: A newer version of conda exists. <==\n",
      "  current version: 4.10.1\n",
      "  latest version: 4.10.2\n",
      "\n",
      "Please update conda by running\n",
      "\n",
      "    $ conda update -n base conda\n",
      "\n",
      "\n",
      "\n",
      "## Package Plan ##\n",
      "\n",
      "  environment location: /Users/ivo/opt/anaconda3/envs/eyeBike\n",
      "\n",
      "  added / updated specs:\n",
      "    - tqdm\n",
      "\n",
      "\n",
      "The following packages will be downloaded:\n",
      "\n",
      "    package                    |            build\n",
      "    ---------------------------|-----------------\n",
      "    tqdm-4.61.1                |     pyhd8ed1ab_0          79 KB  conda-forge\n",
      "    ------------------------------------------------------------\n",
      "                                           Total:          79 KB\n",
      "\n",
      "The following NEW packages will be INSTALLED:\n",
      "\n",
      "  tqdm               conda-forge/noarch::tqdm-4.61.1-pyhd8ed1ab_0\n",
      "\n",
      "\n",
      "\n",
      "Downloading and Extracting Packages\n",
      "tqdm-4.61.1          | 79 KB     | ##################################### | 100% \n",
      "Preparing transaction: done\n",
      "Verifying transaction: done\n",
      "Executing transaction: done\n"
     ]
    }
   ],
   "source": [
    "!conda install -c conda-forge tqdm --yes"
   ]
  },
  {
   "cell_type": "code",
   "execution_count": 101,
   "id": "fb9a4a84",
   "metadata": {
    "ExecuteTime": {
     "end_time": "2021-06-30T12:10:06.916817Z",
     "start_time": "2021-06-30T12:10:06.913240Z"
    }
   },
   "outputs": [],
   "source": [
    "# Set data to be processed\n",
    "DROOT = './0_data'\n",
    "\n",
    "# Sources\n",
    "RND_SRC = path.join(DROOT, \"2_procfootage/360-cropped.jpg\")\n",
    "\n",
    "# Destination video\n",
    "VID_DST_FRMS = path.join(DROOT, \"4_simsiam/video_sample/\")\n",
    "VID_DST = path.join(DROOT, \"4_simsiam/video_sample.mp4\")"
   ]
  },
  {
   "cell_type": "code",
   "execution_count": 93,
   "id": "b8eee67d",
   "metadata": {
    "ExecuteTime": {
     "end_time": "2021-06-30T12:05:03.190231Z",
     "start_time": "2021-06-30T12:05:02.906302Z"
    }
   },
   "outputs": [
    {
     "name": "stdout",
     "output_type": "stream",
     "text": [
      "(1810, 6516, 3)\n"
     ]
    }
   ],
   "source": [
    "base = plt.imread(RND_SRC)\n",
    "height, width, layers = base.shape\n",
    "print(base.shape)\n",
    "r = 150"
   ]
  },
  {
   "cell_type": "code",
   "execution_count": 146,
   "id": "fbccd45b",
   "metadata": {
    "ExecuteTime": {
     "end_time": "2021-06-30T13:06:04.083048Z",
     "start_time": "2021-06-30T13:06:04.036777Z"
    }
   },
   "outputs": [
    {
     "data": {
      "text/html": [
       "<div>\n",
       "<style scoped>\n",
       "    .dataframe tbody tr th:only-of-type {\n",
       "        vertical-align: middle;\n",
       "    }\n",
       "\n",
       "    .dataframe tbody tr th {\n",
       "        vertical-align: top;\n",
       "    }\n",
       "\n",
       "    .dataframe thead th {\n",
       "        text-align: right;\n",
       "    }\n",
       "</style>\n",
       "<table border=\"1\" class=\"dataframe\">\n",
       "  <thead>\n",
       "    <tr style=\"text-align: right;\">\n",
       "      <th></th>\n",
       "      <th>0</th>\n",
       "      <th>1</th>\n",
       "      <th>2</th>\n",
       "      <th>3</th>\n",
       "      <th>4</th>\n",
       "      <th>5</th>\n",
       "      <th>6</th>\n",
       "      <th>7</th>\n",
       "      <th>8</th>\n",
       "      <th>9</th>\n",
       "      <th>10</th>\n",
       "      <th>11</th>\n",
       "      <th>12</th>\n",
       "      <th>13</th>\n",
       "      <th>14</th>\n",
       "      <th>15</th>\n",
       "    </tr>\n",
       "  </thead>\n",
       "  <tbody>\n",
       "    <tr>\n",
       "      <th>0</th>\n",
       "      <td>(1820.3528286178093, 802.237253463994)</td>\n",
       "      <td>(1473.1184210809156, 817.3416894723761)</td>\n",
       "      <td>(1649.28458360366, 832.1923136465618)</td>\n",
       "      <td>(3790.9419464712255, 1015.064035242685)</td>\n",
       "      <td>(3512.8538653513424, 1016.2450670048255)</td>\n",
       "      <td>(3603.7197492424793, 1034.4736777911494)</td>\n",
       "      <td>(3781.3798023212194, 1029.946524976387)</td>\n",
       "      <td>(4292.073831305268, 685.1829210705223)</td>\n",
       "      <td>(4400.097781541503, 742.2360704275967)</td>\n",
       "      <td>(4478.891034853782, 663.9141512465071)</td>\n",
       "      <td>(4396.914159223289, 745.7748257223535)</td>\n",
       "      <td>(2322.177507977992, 1302.6069426638744)</td>\n",
       "      <td>(2537.738563640068, 1305.5315184768917)</td>\n",
       "      <td>(2481.0029984417706, 1295.3589586729934)</td>\n",
       "      <td>(2413.373194059446, 1308.3838346333132)</td>\n",
       "      <td>(2399.126133931643, 1324.8605117708562)</td>\n",
       "    </tr>\n",
       "  </tbody>\n",
       "</table>\n",
       "</div>"
      ],
      "text/plain": [
       "                                       0   \\\n",
       "0  (1820.3528286178093, 802.237253463994)   \n",
       "\n",
       "                                        1   \\\n",
       "0  (1473.1184210809156, 817.3416894723761)   \n",
       "\n",
       "                                      2   \\\n",
       "0  (1649.28458360366, 832.1923136465618)   \n",
       "\n",
       "                                        3   \\\n",
       "0  (3790.9419464712255, 1015.064035242685)   \n",
       "\n",
       "                                         4   \\\n",
       "0  (3512.8538653513424, 1016.2450670048255)   \n",
       "\n",
       "                                         5   \\\n",
       "0  (3603.7197492424793, 1034.4736777911494)   \n",
       "\n",
       "                                        6   \\\n",
       "0  (3781.3798023212194, 1029.946524976387)   \n",
       "\n",
       "                                       7   \\\n",
       "0  (4292.073831305268, 685.1829210705223)   \n",
       "\n",
       "                                       8   \\\n",
       "0  (4400.097781541503, 742.2360704275967)   \n",
       "\n",
       "                                       9   \\\n",
       "0  (4478.891034853782, 663.9141512465071)   \n",
       "\n",
       "                                       10  \\\n",
       "0  (4396.914159223289, 745.7748257223535)   \n",
       "\n",
       "                                        11  \\\n",
       "0  (2322.177507977992, 1302.6069426638744)   \n",
       "\n",
       "                                        12  \\\n",
       "0  (2537.738563640068, 1305.5315184768917)   \n",
       "\n",
       "                                         13  \\\n",
       "0  (2481.0029984417706, 1295.3589586729934)   \n",
       "\n",
       "                                        14  \\\n",
       "0  (2413.373194059446, 1308.3838346333132)   \n",
       "\n",
       "                                        15  \n",
       "0  (2399.126133931643, 1324.8605117708562)  "
      ]
     },
     "execution_count": 146,
     "metadata": {},
     "output_type": "execute_result"
    }
   ],
   "source": [
    "length = 100\n",
    "\n",
    "def get_random_movement(size, main_dev, n_part, part_dev, start, bias):\n",
    "    main = np.random.normal(0, main_dev, length)\n",
    "    main_summed = np.array([sum(main[0:i]) + start + bias for i in range(size)])\n",
    "    parts = [np.random.normal(main_summed, part_dev)\n",
    "             for x in range(n_part)]\n",
    "    \n",
    "    return parts\n",
    "    \n",
    "combine_lists_of_lists = lambda x, y: [list(zip(x[i], y[i])) for i in range(len(x))]\n",
    "\n",
    "part_1_x = get_random_movement(length, 400, 3, 100, -1600, width/2)\n",
    "part_1_y = get_random_movement(length, 20, 3, 20, -100, height/2)\n",
    "part_1 = combine_lists_of_lists(part_1_x, part_1_y)\n",
    "\n",
    "part_2_x = get_random_movement(length, 100, 4, 200, 400, width/2)\n",
    "part_2_y = get_random_movement(length, 20, 4, 20, 100, height/2)\n",
    "part_2 = combine_lists_of_lists(part_2_x, part_2_y)\n",
    "\n",
    "part_3_x = get_random_movement(length, 400, 4, 100, 1000, width/2)\n",
    "part_3_y = get_random_movement(length, 20, 4, 20, -200, height/2)\n",
    "part_3 = combine_lists_of_lists(part_3_x, part_3_y)\n",
    "\n",
    "part_4_x = get_random_movement(length, 100, 5, 150, -700, width/2)\n",
    "part_4_y = get_random_movement(length, 20, 5, 20, 400, height/2)\n",
    "part_4 = combine_lists_of_lists(part_4_x, part_4_y)\n",
    "\n",
    "parts = pd.DataFrame(part_1 + part_2 + part_3 + part_4).T\n",
    "\n",
    "parts.head(1)"
   ]
  },
  {
   "cell_type": "code",
   "execution_count": 147,
   "id": "174ba146",
   "metadata": {
    "ExecuteTime": {
     "end_time": "2021-06-30T13:07:14.975956Z",
     "start_time": "2021-06-30T13:06:04.685949Z"
    },
    "scrolled": true
   },
   "outputs": [
    {
     "name": "stderr",
     "output_type": "stream",
     "text": [
      "100it [01:10,  1.42it/s]\n"
     ]
    }
   ],
   "source": [
    "fourcc = cv2.VideoWriter_fourcc(*'FMP4')\n",
    "fourcc = cv2.VideoWriter_fourcc(*'XVID')\n",
    "video = cv2.VideoWriter(VID_DST, fourcc, 10, (1440, 720))\n",
    "\n",
    "def get_cmap(n, name='hsv'):\n",
    "    return plt.cm.get_cmap(name, n)\n",
    "cmap = get_cmap(len([x[0] for x in parts.iloc[0]]))\n",
    "\n",
    "for frame in tqdm(parts.itertuples(index=False)):\n",
    "    \n",
    "    fig, ax = plt.subplots(figsize=(20,10))\n",
    "    ax.imshow(base)\n",
    "    x = [x[0] for x in frame]\n",
    "    y = [x[1] for x in frame]\n",
    "    ax.scatter(x, y, c=range(len(x)), cmap=cmap, linewidths=15, alpha=0.7)\n",
    "    ax.axis('off')\n",
    "    fig.tight_layout(pad=0, h_pad=0)\n",
    "    ax.margins(0, y=0)\n",
    "\n",
    "    fig.canvas.draw()\n",
    "    image_from_plot = np.frombuffer(fig.canvas.tostring_rgb(), dtype=np.uint8)\n",
    "    image_from_plot = image_from_plot.reshape(fig.canvas.get_width_height()[::-1] + (3,))\n",
    "    \n",
    "    video.write(cv2.cvtColor(image_from_plot, cv2.COLOR_BGR2RGB))\n",
    "    plt.close()\n",
    "    \n",
    "video.release()"
   ]
  },
  {
   "cell_type": "code",
   "execution_count": null,
   "id": "c5b0c9db",
   "metadata": {},
   "outputs": [],
   "source": []
  }
 ],
 "metadata": {
  "kernelspec": {
   "display_name": "Python 3",
   "language": "python",
   "name": "python3"
  },
  "language_info": {
   "codemirror_mode": {
    "name": "ipython",
    "version": 3
   },
   "file_extension": ".py",
   "mimetype": "text/x-python",
   "name": "python",
   "nbconvert_exporter": "python",
   "pygments_lexer": "ipython3",
   "version": "3.9.4"
  }
 },
 "nbformat": 4,
 "nbformat_minor": 5
}
