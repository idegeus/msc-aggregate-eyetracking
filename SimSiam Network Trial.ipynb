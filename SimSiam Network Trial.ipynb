{
 "cells": [
  {
   "cell_type": "code",
   "execution_count": 72,
   "id": "dd7a4653",
   "metadata": {
    "ExecuteTime": {
     "end_time": "2021-04-20T15:00:54.125550Z",
     "start_time": "2021-04-20T15:00:53.093622Z"
    }
   },
   "outputs": [],
   "source": [
    "# Copyright (c) Facebook, Inc. and its affiliates. All Rights Reserved\n",
    "import argparse\n",
    "import builtins\n",
    "import math\n",
    "import os\n",
    "import random\n",
    "import shutil\n",
    "import time\n",
    "import json\n",
    "import warnings\n",
    "\n",
    "import sys\n",
    "sys.path.append('//Users/ivo/Desktop/thesis/pytorch-SimSiam')\n",
    "\n",
    "import torch\n",
    "import torch.nn as nn\n",
    "import torch.nn.parallel\n",
    "import torch.backends.cudnn as cudnn\n",
    "import torch.distributed as dist\n",
    "import torch.optim\n",
    "import torch.multiprocessing as mp\n",
    "import torch.utils.data\n",
    "import torch.utils.data.distributed\n",
    "import torchvision.transforms as transforms\n",
    "import torchvision.datasets as datasets\n",
    "import torchvision.models as models\n",
    "\n",
    "from models.simsiam import SimSiam\n",
    "import torch.nn.functional as F\n",
    "from setlogger import get_logger\n",
    "\n",
    "import moco.loader\n",
    "import moco.builder\n",
    "\n",
    "import numpy as np\n",
    "\n",
    "from collections import OrderedDict\n",
    "%matplotlib inline"
   ]
  },
  {
   "cell_type": "code",
   "execution_count": 43,
   "id": "3eb7c557",
   "metadata": {
    "ExecuteTime": {
     "end_time": "2021-04-20T14:39:29.199078Z",
     "start_time": "2021-04-20T14:39:29.181100Z"
    }
   },
   "outputs": [],
   "source": [
    "saved_path = os.path.join(\"logs/R50e100_bs512lr0.1/\") #rs56_KDCL_MinLogit_cifar_e250 rs56_5KD_0.4w_cifar_e250\n",
    "if not os.path.exists(saved_path):\n",
    "    os.makedirs(saved_path)\n",
    "logger = get_logger(os.path.join(saved_path, 'train.log'))\n",
    "\n",
    "model_names = sorted(name for name in models.__dict__\n",
    "    if name.islower() and not name.startswith(\"__\")\n",
    "    and callable(models.__dict__[name]))"
   ]
  },
  {
   "cell_type": "code",
   "execution_count": 100,
   "id": "36e38a25",
   "metadata": {
    "ExecuteTime": {
     "end_time": "2021-04-20T15:08:06.160041Z",
     "start_time": "2021-04-20T15:08:04.890947Z"
    }
   },
   "outputs": [
    {
     "name": "stdout",
     "output_type": "stream",
     "text": [
      "=> loaded checkpoint '../unsupervised_pretrained.pth.tar' (epoch 100)\n"
     ]
    }
   ],
   "source": [
    "args = {\n",
    "    \"resume\": \"../unsupervised_pretrained.pth.tar\",\n",
    "    \"data\": '/Users/ivo/Desktop/thesis/pytorch-SimSiam/data_custom'\n",
    "}\n",
    "\n",
    "# create model\n",
    "model = SimSiam(backbone='resnet50')\n",
    "# print(model)\n",
    "\n",
    "# define loss function (criterion) and optimizer\n",
    "# criterion = nn.CrossEntropyLoss().cuda(args.gpu)\n",
    "optimizer = torch.optim.SGD(model.parameters(), 0.05,\n",
    "                            momentum=0.9,\n",
    "                            weight_decay=1e-4)\n",
    "\n",
    "checkpoint = torch.load(args['resume'], map_location=torch.device('cpu'))\n",
    "args['start_epoch'] = checkpoint['epoch']\n",
    "\n",
    "state_dict_filtered = OrderedDict([(k[7:], v) if 'module.' in k else (k, v) for k, v in checkpoint['state_dict'].items()])\n",
    "model.load_state_dict(state_dict_filtered)\n",
    "optimizer.load_state_dict(checkpoint['optimizer'])\n",
    "\n",
    "print(\"=> loaded checkpoint '{}' (epoch {})\"\n",
    "        .format(args['resume'], checkpoint['epoch']))\n",
    "\n",
    "# Data loading code\n",
    "traindir = os.path.join(args['data'], 'train')\n",
    "normalize = transforms.Normalize(mean=[0.485, 0.456, 0.406],\n",
    "                                    std=[0.229, 0.224, 0.225])\n",
    "\n",
    "transform = transforms.Compose([\n",
    "    transforms.ToTensor()\n",
    "])\n",
    "\n",
    "train_dataset = datasets.ImageFolder(traindir, transform=transform)\n",
    "train_loader = torch.utils.data.DataLoader(train_dataset, batch_size=60,  \n",
    "                                          shuffle=False, drop_last=False, num_workers=4)    \n",
    "\n"
   ]
  },
  {
   "cell_type": "code",
   "execution_count": 101,
   "id": "1a0e8812",
   "metadata": {
    "ExecuteTime": {
     "end_time": "2021-04-20T15:08:13.441428Z",
     "start_time": "2021-04-20T15:08:13.435755Z"
    }
   },
   "outputs": [],
   "source": [
    "def cosine_similarity(p, z):\n",
    "    # z = z.detach()\n",
    "    p = F.normalize(p, dim=1)\n",
    "    z = F.normalize(z, dim=1)\n",
    "    return (p*z.detach()).sum(dim=1).mean()\n",
    "    # return - nn.functional.cosine_similarity(p, z.detach(), dim=-1).mean()"
   ]
  },
  {
   "cell_type": "code",
   "execution_count": 102,
   "id": "284e0475",
   "metadata": {
    "ExecuteTime": {
     "end_time": "2021-04-20T15:08:13.949638Z",
     "start_time": "2021-04-20T15:08:13.942915Z"
    }
   },
   "outputs": [],
   "source": [
    "z = []\n",
    "p = []"
   ]
  },
  {
   "cell_type": "code",
   "execution_count": 104,
   "id": "2bbe56c3",
   "metadata": {
    "ExecuteTime": {
     "end_time": "2021-04-20T15:15:16.592514Z",
     "start_time": "2021-04-20T15:08:38.149816Z"
    },
    "scrolled": true
   },
   "outputs": [
    {
     "name": "stdout",
     "output_type": "stream",
     "text": [
      "Starting\n",
      "0 tensor([0, 0, 0, 0, 0, 0, 0, 0, 0, 0, 0, 0, 0, 0, 0, 0, 0, 0, 0, 0, 0, 0, 0, 0,\n",
      "        0, 0, 0, 0, 0, 0, 0, 0, 0, 0, 0, 0, 0, 0, 0, 0, 0, 0, 0, 0, 0, 0, 0, 0,\n",
      "        0, 0, 0, 0, 0, 0, 0, 0, 0, 0, 0, 0])\n",
      "1 tensor([0, 0, 0, 0, 0, 0, 0, 0, 0, 0, 0, 0, 0, 0, 0, 0, 0, 0, 0, 0, 0, 0, 0, 0,\n",
      "        0, 0, 0, 0, 0, 0, 0, 0, 0, 0, 0, 0, 0, 0, 0, 0, 0, 0, 0, 0, 0, 0, 0, 0,\n",
      "        0, 0, 0, 0, 0, 0, 0, 0, 0, 0, 0, 0])\n",
      "2 tensor([0, 0, 0, 0, 0, 0, 0, 0, 0, 0, 0, 0, 0, 0, 0, 0, 0, 0, 0, 0, 0, 0, 0, 0,\n",
      "        0, 0, 0, 0, 0, 0, 0, 0, 0, 0, 0, 0, 0, 0, 0, 0, 0, 0, 0, 0, 0, 0, 0, 0,\n",
      "        0, 0, 0, 0, 0, 0, 0, 0, 0, 0, 0, 0])\n",
      "3 tensor([0, 0, 0, 0, 0, 0, 0, 0, 0, 0, 0, 0, 0, 0, 0, 0, 0, 0, 0, 0, 0, 0, 0, 0,\n",
      "        0, 0, 0, 0, 0, 0, 0, 0, 0, 0, 0, 0, 0, 0, 0, 0, 0, 0, 0, 0, 0, 0, 0, 0,\n",
      "        0, 0, 0, 0, 0, 0, 0, 0, 0, 0, 0, 0])\n",
      "4 tensor([0, 0, 0, 0, 0, 0, 0, 0, 0, 0, 0, 0, 0, 0, 0, 0, 0, 0, 0, 0, 0, 0, 0, 0,\n",
      "        0, 0, 0, 0, 0, 0, 0, 0, 0, 0, 0, 0, 0, 0, 0, 0, 0, 0, 0, 0, 0, 0, 0, 0,\n",
      "        0, 0, 0, 0, 0, 0, 0, 0, 0, 0, 0, 0])\n",
      "5 tensor([0, 0, 0, 0, 0, 0, 0, 0, 0, 0, 0, 0, 0, 0, 0, 0, 0, 0, 0, 0, 0, 0, 0, 0,\n",
      "        0, 0, 0, 0, 0, 0, 0, 0, 0, 0, 0, 0, 0, 0, 0, 0, 0, 0, 0, 0, 0, 0, 0, 0,\n",
      "        0, 0, 0, 0, 0, 0, 0, 0, 0, 0, 0, 0])\n",
      "6 tensor([0, 0, 0, 0, 0, 0, 0, 0, 0, 0, 0, 0, 0, 0, 0, 0, 0, 0, 0, 0, 0, 0, 0, 0,\n",
      "        0, 0, 0, 0, 0, 0, 0, 0, 0, 0, 0, 0, 0, 0, 0, 0, 0, 0, 0, 0, 0, 0, 0, 0,\n",
      "        0, 0, 0, 0, 0, 0, 0, 0, 0, 0, 0, 0])\n",
      "7 tensor([0, 0, 0, 0, 0, 0, 0, 0, 0, 0, 0, 0, 0, 0, 0, 0, 0, 0, 0, 0, 0, 0, 0, 0,\n",
      "        0, 0, 0, 0, 0, 0, 0, 0, 0, 0, 0, 0, 0, 0, 0, 0, 0, 0, 0, 0, 0, 0, 0, 0,\n",
      "        0, 0, 0, 0, 0, 0, 0, 0, 0, 0, 0, 0])\n",
      "8 tensor([0, 0, 0, 0, 0, 0, 0, 0, 0, 0, 0, 0, 0, 0, 0, 0, 0, 0, 0, 0, 0, 0, 0, 0,\n",
      "        0, 0, 0, 0, 0, 0, 0, 0, 0, 0, 0, 0, 0, 0, 0, 0, 0, 0, 0, 0, 0, 0, 0, 0,\n",
      "        0, 0, 0, 0, 0, 0, 0, 0, 0, 0, 0, 0])\n",
      "9 tensor([0, 0, 0, 0, 0, 0, 0, 0, 0, 0, 0, 0, 0, 0, 0, 0, 0, 0, 0, 0, 0, 0, 0, 0,\n",
      "        0, 0, 0, 0, 0, 0, 0, 0, 0, 0, 0, 0, 0, 0, 0, 0, 0, 0, 0, 0, 0, 0, 0, 0,\n",
      "        0, 0, 0, 0, 0, 0, 0, 0, 0, 0, 0, 0])\n",
      "10 tensor([0, 0, 0, 0, 0, 0, 0, 0, 0, 0, 0, 0, 0, 0, 0, 0, 0, 0, 0, 0, 0, 0, 0, 0,\n",
      "        0, 0, 0, 0, 0, 0, 0, 0, 0, 0, 0, 0, 0, 0, 0, 0, 0, 0, 0, 0, 0, 0, 0, 0,\n",
      "        0, 0, 0, 0, 0, 0, 0, 0, 0, 0, 0, 0])\n",
      "11 tensor([0, 0, 0, 0, 0, 0, 0, 0, 0, 0, 0, 0, 0, 0, 0, 0, 0, 0, 0, 0, 0, 0, 0, 0,\n",
      "        0, 0, 0, 0, 0, 0, 0, 0, 0, 0, 0, 0, 0, 0, 0, 0, 0, 0, 0, 0, 0, 0, 0, 0,\n",
      "        0, 0, 0, 0, 0, 0, 0, 0, 0, 0, 0, 0])\n",
      "12 tensor([0, 0, 0, 0, 0, 0, 0, 0, 0, 0, 0, 0, 0, 0, 0, 0, 0, 0, 0, 0, 0, 0, 0, 0,\n",
      "        0, 0, 0, 0, 0, 0, 0, 0, 0, 0, 0, 0, 0, 0, 0, 0, 0, 0, 0, 0, 0, 0, 0, 0,\n",
      "        0, 0, 0, 0, 0, 0, 0, 0, 0, 0, 0, 0])\n",
      "13 tensor([0, 0, 0, 0, 0, 0, 0, 0, 0, 0, 0, 0, 0, 0, 0, 0, 0, 0, 0, 0, 0, 0, 0, 0,\n",
      "        0, 0, 0, 0, 0, 0, 0, 0, 0, 0, 0, 0, 0, 0, 0, 0, 0, 0, 0, 0, 0, 0, 0, 0,\n",
      "        0, 0, 0, 0, 0, 0, 0, 0, 0, 0, 0, 0])\n",
      "14 tensor([0, 0, 0, 0, 0, 0, 0, 0, 0, 0, 0, 0, 0, 0, 0, 0, 0, 0, 0, 0, 0, 0, 0, 0,\n",
      "        0, 0, 0, 0, 0, 0, 0, 0, 0, 0, 0, 0, 0, 0, 0, 0, 0, 0, 0, 0, 0, 0, 0, 0,\n",
      "        0, 0, 0, 0, 0, 0, 0, 0, 0, 0, 0, 0])\n",
      "15 tensor([0, 0, 0, 0, 0, 0, 0, 0, 0, 0, 0, 0, 0, 0, 0, 0, 0, 0, 0, 0, 0, 0, 0, 0,\n",
      "        0, 0, 0, 0, 0, 0, 0, 0, 0, 0, 0, 0, 0, 0, 0, 0, 0, 0, 0, 0, 0, 0, 0, 0,\n",
      "        0, 0, 0, 0, 0, 0, 0, 0, 0, 0, 0, 0])\n",
      "16 tensor([0, 0, 0, 0, 0, 0, 0, 0, 0, 0, 0, 0, 0, 0, 0, 0, 0, 0, 0, 0, 0, 0, 0, 0,\n",
      "        0, 0, 0, 0, 0, 0, 0, 0, 0, 0, 0, 0, 0, 0, 0, 0, 0, 0, 0, 0, 0, 0, 0, 0,\n",
      "        0, 0, 0, 0, 0, 0, 0, 0, 0, 0, 0, 0])\n"
     ]
    }
   ],
   "source": [
    "print(\"Starting\")\n",
    "\n",
    "# # switch to train mode\n",
    "model = model.eval()\n",
    "\n",
    "for i, (images, _) in enumerate(train_loader):\n",
    "\n",
    "    print(i, _)\n",
    "\n",
    "    # # compute output\n",
    "    # output, target = model(im_q=images[0], im_k=images[1])\n",
    "    # loss = criterion(output, target)\n",
    "\n",
    "    # print(output, target)\n",
    "    z1, p1 = model(images)\n",
    "\n",
    "    z += z1.detach()\n",
    "    p += p1.detach()\n",
    "\n",
    "    # # acc1/acc5 are (K+1)-way contrast classifier accuracy\n",
    "    # # measure accuracy and record loss\n",
    "    # # acc1, acc5 = accuracy(output, target, topk=(1, 5))\n",
    "    # losses.update(loss.item(), images[0].size(0))\n",
    "    # # top1.update(acc1[0], images[0].size(0))\n",
    "    # # top5.update(acc5[0], images[0].size(0))\n",
    "\n",
    "    # # compute gradient and do SGD step\n",
    "    # optimizer.zero_grad()\n",
    "    # loss.backward()\n",
    "    # optimizer.step()\n",
    "    \n",
    "    if i > 15:\n",
    "        break\n"
   ]
  },
  {
   "cell_type": "code",
   "execution_count": 106,
   "id": "d4555c0b",
   "metadata": {
    "ExecuteTime": {
     "end_time": "2021-04-20T15:15:21.325614Z",
     "start_time": "2021-04-20T15:15:19.430846Z"
    },
    "scrolled": false
   },
   "outputs": [
    {
     "data": {
      "text/plain": [
       "array([[-7.5672811e-05, -5.8723381e-06, -3.5210454e-05, ...,\n",
       "        -1.4451332e-04,  2.8981251e-04, -1.9670220e-04],\n",
       "       [-1.4036876e-04, -3.3351593e-05,  4.9382274e-05, ...,\n",
       "        -2.0492624e-04,  2.6118476e-04, -9.7224489e-05],\n",
       "       [-1.3091811e-04, -4.8289075e-06,  1.1298514e-05, ...,\n",
       "        -1.7915689e-04,  2.4360075e-04, -1.4089199e-04],\n",
       "       ...,\n",
       "       [-8.8918605e-06,  1.4007062e-04, -5.4920692e-04, ...,\n",
       "        -1.9136100e-04,  3.9594970e-04, -3.9083476e-05],\n",
       "       [-8.3766761e-05,  1.7923885e-04, -2.4783832e-05, ...,\n",
       "        -9.7420649e-05,  2.7169863e-04, -1.8315052e-04],\n",
       "       [-1.7957581e-04,  1.9904366e-04, -6.1361061e-05, ...,\n",
       "         5.7195430e-06,  2.2001378e-04, -1.7752225e-04]], dtype=float32)"
      ]
     },
     "execution_count": 106,
     "metadata": {},
     "output_type": "execute_result"
    }
   ],
   "source": [
    "matrix = np.array([np.array(x) for x in p])\n",
    "matrix"
   ]
  },
  {
   "cell_type": "code",
   "execution_count": 107,
   "id": "773da88f",
   "metadata": {
    "ExecuteTime": {
     "end_time": "2021-04-20T15:15:21.331338Z",
     "start_time": "2021-04-20T15:15:21.328207Z"
    },
    "scrolled": false
   },
   "outputs": [],
   "source": [
    "import matplotlib\n",
    "import matplotlib.pyplot as plt\n",
    "from scipy.spatial import distance"
   ]
  },
  {
   "cell_type": "code",
   "execution_count": 110,
   "id": "e0d33edd",
   "metadata": {
    "ExecuteTime": {
     "end_time": "2021-04-20T15:19:33.195200Z",
     "start_time": "2021-04-20T15:19:32.926403Z"
    }
   },
   "outputs": [
    {
     "data": {
      "text/plain": [
       "[<matplotlib.lines.Line2D at 0x12b747400>]"
      ]
     },
     "execution_count": 110,
     "metadata": {},
     "output_type": "execute_result"
    },
    {
     "data": {
      "image/png": "[encoded data removed]",
      "text/plain": [
       "<Figure size 720x1440 with 1 Axes>"
      ]
     },
     "metadata": {
      "needs_background": "light"
     },
     "output_type": "display_data"
    }
   ],
   "source": [
    "res = [distance.cosine(matrix[760], pix) for pix in matrix]\n",
    "res = np.array(res).reshape((17, 60))\n",
    "\n",
    "fix, ax = plt.subplots(figsize=(10,20))\n",
    "ax.imshow(res)\n",
    "ax.plot(40, 12, 'ro', markersize=4)"
   ]
  },
  {
   "cell_type": "code",
   "execution_count": null,
   "id": "435ab983",
   "metadata": {},
   "outputs": [],
   "source": []
  }
 ],
 "metadata": {
  "kernelspec": {
   "display_name": "Python 3",
   "language": "python",
   "name": "python3"
  },
  "language_info": {
   "codemirror_mode": {
    "name": "ipython",
    "version": 3
   },
   "file_extension": ".py",
   "mimetype": "text/x-python",
   "name": "python",
   "nbconvert_exporter": "python",
   "pygments_lexer": "ipython3",
   "version": "3.9.2"
  }
 },
 "nbformat": 4,
 "nbformat_minor": 5
}
