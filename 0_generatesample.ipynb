{
 "cells": [
  {
   "cell_type": "code",
   "execution_count": 2,
   "id": "5e9e67e0",
   "metadata": {
    "ExecuteTime": {
     "end_time": "2021-06-30T15:14:18.302825Z",
     "start_time": "2021-06-30T15:14:15.957202Z"
    }
   },
   "outputs": [],
   "source": [
    "## Imports\n",
    "\n",
    "# General\n",
    "import os\n",
    "import os.path as path\n",
    "import json\n",
    "from glob import glob\n",
    "import cv2 as cv2\n",
    "import numpy as np\n",
    "import pandas as pd\n",
    "from PIL import Image, ImageDraw\n",
    "import matplotlib.pyplot as plt\n",
    "from tqdm import tqdm\n",
    "\n",
    "%matplotlib inline"
   ]
  },
  {
   "cell_type": "code",
   "execution_count": 24,
   "id": "fb9a4a84",
   "metadata": {
    "ExecuteTime": {
     "end_time": "2021-07-01T12:45:32.533501Z",
     "start_time": "2021-07-01T12:45:32.528298Z"
    }
   },
   "outputs": [],
   "source": [
    "# Set data to be processed\n",
    "DROOT = './0_data'\n",
    "\n",
    "# Sources\n",
    "RND_SRC = path.join(DROOT, \"2_procfootage/360-cropped.jpg\")\n",
    "\n",
    "# Destination video\n",
    "VID_DST = path.join(DROOT, \"4_simsiam/video_sample.mp4\")\n",
    "IMG_DST = path.join(DROOT, \"4_simsiam/video_sample.jpg\")"
   ]
  },
  {
   "cell_type": "code",
   "execution_count": 4,
   "id": "b8eee67d",
   "metadata": {
    "ExecuteTime": {
     "end_time": "2021-06-30T15:14:18.572394Z",
     "start_time": "2021-06-30T15:14:18.311708Z"
    }
   },
   "outputs": [
    {
     "name": "stdout",
     "output_type": "stream",
     "text": [
      "(1810, 6516, 3)\n"
     ]
    }
   ],
   "source": [
    "base = plt.imread(RND_SRC)\n",
    "height, width, layers = base.shape\n",
    "print(base.shape)\n",
    "r = 150"
   ]
  },
  {
   "cell_type": "code",
   "execution_count": 14,
   "id": "fbccd45b",
   "metadata": {
    "ExecuteTime": {
     "end_time": "2021-07-01T12:37:42.961821Z",
     "start_time": "2021-07-01T12:37:42.771257Z"
    }
   },
   "outputs": [
    {
     "data": {
      "text/html": [
       "<div>\n",
       "<style scoped>\n",
       "    .dataframe tbody tr th:only-of-type {\n",
       "        vertical-align: middle;\n",
       "    }\n",
       "\n",
       "    .dataframe tbody tr th {\n",
       "        vertical-align: top;\n",
       "    }\n",
       "\n",
       "    .dataframe thead th {\n",
       "        text-align: right;\n",
       "    }\n",
       "</style>\n",
       "<table border=\"1\" class=\"dataframe\">\n",
       "  <thead>\n",
       "    <tr style=\"text-align: right;\">\n",
       "      <th></th>\n",
       "      <th>0</th>\n",
       "      <th>1</th>\n",
       "      <th>2</th>\n",
       "      <th>3</th>\n",
       "      <th>4</th>\n",
       "      <th>5</th>\n",
       "      <th>6</th>\n",
       "      <th>7</th>\n",
       "      <th>8</th>\n",
       "      <th>9</th>\n",
       "      <th>10</th>\n",
       "      <th>11</th>\n",
       "      <th>12</th>\n",
       "      <th>13</th>\n",
       "      <th>14</th>\n",
       "      <th>15</th>\n",
       "    </tr>\n",
       "  </thead>\n",
       "  <tbody>\n",
       "    <tr>\n",
       "      <th>0</th>\n",
       "      <td>(2747.9268398162167, 791.5812791465198)</td>\n",
       "      <td>(2701.6215841445633, 776.3770068435981)</td>\n",
       "      <td>(2469.953086963723, 840.9244930469127)</td>\n",
       "      <td>(3699.372379316033, 1018.526580158108)</td>\n",
       "      <td>(3658.242233001392, 1017.7134561996713)</td>\n",
       "      <td>(3493.3801135677327, 961.4287287301823)</td>\n",
       "      <td>(3686.674484158418, 967.3413946719255)</td>\n",
       "      <td>(4205.122482874769, 696.8465441975054)</td>\n",
       "      <td>(4251.195509612474, 701.2218927926936)</td>\n",
       "      <td>(4517.818109768861, 697.1769380264216)</td>\n",
       "      <td>(4182.67553250097, 728.5141692615217)</td>\n",
       "      <td>(2458.238230271785, 1294.0538856377289)</td>\n",
       "      <td>(2531.0094711350407, 1319.7223970608945)</td>\n",
       "      <td>(2316.9734311699904, 1308.1530238511796)</td>\n",
       "      <td>(2694.9252295182123, 1333.6133400543195)</td>\n",
       "      <td>(2700.9805589392236, 1301.7043040588667)</td>\n",
       "    </tr>\n",
       "  </tbody>\n",
       "</table>\n",
       "</div>"
      ],
      "text/plain": [
       "                                        0   \\\n",
       "0  (2747.9268398162167, 791.5812791465198)   \n",
       "\n",
       "                                        1   \\\n",
       "0  (2701.6215841445633, 776.3770068435981)   \n",
       "\n",
       "                                       2   \\\n",
       "0  (2469.953086963723, 840.9244930469127)   \n",
       "\n",
       "                                       3   \\\n",
       "0  (3699.372379316033, 1018.526580158108)   \n",
       "\n",
       "                                        4   \\\n",
       "0  (3658.242233001392, 1017.7134561996713)   \n",
       "\n",
       "                                        5   \\\n",
       "0  (3493.3801135677327, 961.4287287301823)   \n",
       "\n",
       "                                       6   \\\n",
       "0  (3686.674484158418, 967.3413946719255)   \n",
       "\n",
       "                                       7   \\\n",
       "0  (4205.122482874769, 696.8465441975054)   \n",
       "\n",
       "                                       8   \\\n",
       "0  (4251.195509612474, 701.2218927926936)   \n",
       "\n",
       "                                       9   \\\n",
       "0  (4517.818109768861, 697.1769380264216)   \n",
       "\n",
       "                                      10  \\\n",
       "0  (4182.67553250097, 728.5141692615217)   \n",
       "\n",
       "                                        11  \\\n",
       "0  (2458.238230271785, 1294.0538856377289)   \n",
       "\n",
       "                                         12  \\\n",
       "0  (2531.0094711350407, 1319.7223970608945)   \n",
       "\n",
       "                                         13  \\\n",
       "0  (2316.9734311699904, 1308.1530238511796)   \n",
       "\n",
       "                                         14  \\\n",
       "0  (2694.9252295182123, 1333.6133400543195)   \n",
       "\n",
       "                                         15  \n",
       "0  (2700.9805589392236, 1301.7043040588667)  "
      ]
     },
     "execution_count": 14,
     "metadata": {},
     "output_type": "execute_result"
    }
   ],
   "source": [
    "length = 100\n",
    "\n",
    "def get_random_movement(size, main_dev, n_part, part_dev, start, bias, vmin, vmax):\n",
    "    main = np.random.normal(0, main_dev, length)\n",
    "    main_summed = np.array([ sum(main[0:i]) + start + bias for i in range(size)])\n",
    "    parts = [np.minimum(vmax, np.maximum(vmin, np.random.normal(main_summed, part_dev)))\n",
    "             for x in range(n_part)]\n",
    "    \n",
    "    return parts\n",
    "    \n",
    "combine_lists_of_lists = lambda x, y: [list(zip(x[i], y[i])) for i in range(len(x))]\n",
    "\n",
    "part_1_x = get_random_movement(length, 200, 3, 150, -600, width/2, 0, width)\n",
    "part_1_y = get_random_movement(length, 20, 3, 20, -100, height/2, 0, height)\n",
    "part_1 = combine_lists_of_lists(part_1_x, part_1_y)\n",
    "\n",
    "part_2_x = get_random_movement(length, 100, 4, 250, 400, width/2, 0, width)\n",
    "part_2_y = get_random_movement(length, 20, 4, 20, 100, height/2, 0, height)\n",
    "part_2 = combine_lists_of_lists(part_2_x, part_2_y)\n",
    "\n",
    "part_3_x = get_random_movement(length, 250, 4, 200, 1000, width/2, 0, width)\n",
    "part_3_y = get_random_movement(length, 20, 4, 20, -200, height/2, 0, height)\n",
    "part_3 = combine_lists_of_lists(part_3_x, part_3_y)\n",
    "\n",
    "part_4_x = get_random_movement(length, 100, 5, 300, -700, width/2, 0, width)\n",
    "part_4_y = get_random_movement(length, 20, 5, 20, 400, height/2, 0, height)\n",
    "part_4 = combine_lists_of_lists(part_4_x, part_4_y)\n",
    "\n",
    "parts = pd.DataFrame(part_1 + part_2 + part_3 + part_4).T\n",
    "\n",
    "parts.head(1)"
   ]
  },
  {
   "cell_type": "code",
   "execution_count": 27,
   "id": "174ba146",
   "metadata": {
    "ExecuteTime": {
     "end_time": "2021-07-01T12:55:14.916498Z",
     "start_time": "2021-07-01T12:53:50.272453Z"
    },
    "scrolled": true
   },
   "outputs": [
    {
     "name": "stderr",
     "output_type": "stream",
     "text": [
      "100it [01:24,  1.18it/s]\n"
     ]
    }
   ],
   "source": [
    "fourcc = cv2.VideoWriter_fourcc(*'FMP4')\n",
    "video = cv2.VideoWriter(VID_DST, fourcc, 10, (1440, 720))\n",
    "\n",
    "def get_cmap(n, name='hsv'):\n",
    "    return plt.cm.get_cmap(name, n)\n",
    "cmap = get_cmap(len([x[0] for x in parts.iloc[0]]))\n",
    "\n",
    "for frame in tqdm(parts.itertuples()):\n",
    "    \n",
    "    index = frame[0]\n",
    "    pars = frame[1:]\n",
    "    \n",
    "    fig, ax = plt.subplots(figsize=(20,10))\n",
    "    ax.imshow(base)\n",
    "    x = [x[0] for x in pars]\n",
    "    y = [x[1] for x in pars]\n",
    "    ax.scatter(x, y, c=range(len(x)), cmap=cmap, linewidths=15, alpha=0.7)\n",
    "    ax.axis('off')\n",
    "    fig.tight_layout(pad=0, h_pad=0)\n",
    "    ax.margins(0, y=0)\n",
    "\n",
    "    fig.canvas.draw()\n",
    "    image_from_plot = np.frombuffer(fig.canvas.tostring_rgb(), dtype=np.uint8)\n",
    "    image_from_plot = image_from_plot.reshape(fig.canvas.get_width_height()[::-1] + (3,))\n",
    "    \n",
    "    if index == 20:\n",
    "        fig.savefig(IMG_DST, bbox_inches='tight', pad_inches = 0)\n",
    "    \n",
    "    video.write(cv2.cvtColor(image_from_plot, cv2.COLOR_BGR2RGB))\n",
    "    plt.close()\n",
    "    \n",
    "video.release()"
   ]
  },
  {
   "cell_type": "code",
   "execution_count": null,
   "id": "0687679f",
   "metadata": {},
   "outputs": [],
   "source": []
  }
 ],
 "metadata": {
  "kernelspec": {
   "display_name": "Python 3",
   "language": "python",
   "name": "python3"
  },
  "language_info": {
   "codemirror_mode": {
    "name": "ipython",
    "version": 3
   },
   "file_extension": ".py",
   "mimetype": "text/x-python",
   "name": "python",
   "nbconvert_exporter": "python",
   "pygments_lexer": "ipython3",
   "version": "3.9.4"
  }
 },
 "nbformat": 4,
 "nbformat_minor": 5
}
